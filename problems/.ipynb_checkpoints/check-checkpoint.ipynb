{
 "cells": [
  {
   "cell_type": "code",
   "execution_count": 24,
   "id": "2200ca0e",
   "metadata": {},
   "outputs": [],
   "source": [
    "def recieving_words(*args, **kwargs):\n",
    "\n",
    "    input_words = []\n",
    "    _ = \"\"\n",
    "    while not \"END\" in _:\n",
    "        i_word = input(\n",
    "            \"please input any word you want to search through the files --> \\n\")\n",
    "        _ = tuple(i_word.split(\" \"))\n",
    "        input_words.append(_)\n",
    "        for inputed_word in input_words:\n",
    "            if inputed_word == \"END\":\n",
    "                break\n",
    "    print(input_words)\n",
    "    return(input_words)"
   ]
  },
  {
   "cell_type": "code",
   "execution_count": 25,
   "id": "892bfb09",
   "metadata": {},
   "outputs": [
    {
     "name": "stdout",
     "output_type": "stream",
     "text": [
      "please input any word you want to search through the files --> \n",
      "ali\n",
      "please input any word you want to search through the files --> \n",
      "javad mamad\n",
      "please input any word you want to search through the files --> \n",
      "END\n",
      "[('ali',), ('javad', 'mamad'), ('END',)]\n"
     ]
    },
    {
     "data": {
      "text/plain": [
       "[('ali',), ('javad', 'mamad'), ('END',)]"
      ]
     },
     "execution_count": 25,
     "metadata": {},
     "output_type": "execute_result"
    }
   ],
   "source": [
    "recieving_words()"
   ]
  }
 ],
 "metadata": {
  "kernelspec": {
   "display_name": "Python 3 (ipykernel)",
   "language": "python",
   "name": "python3"
  },
  "language_info": {
   "codemirror_mode": {
    "name": "ipython",
    "version": 3
   },
   "file_extension": ".py",
   "mimetype": "text/x-python",
   "name": "python",
   "nbconvert_exporter": "python",
   "pygments_lexer": "ipython3",
   "version": "3.8.8"
  }
 },
 "nbformat": 4,
 "nbformat_minor": 5
}
